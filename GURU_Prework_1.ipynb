{
  "nbformat": 4,
  "nbformat_minor": 0,
  "metadata": {
    "colab": {
      "name": "GURU-Prework-1.ipynb",
      "provenance": [],
      "authorship_tag": "ABX9TyP3s+o56deHn9TGcVfqKefx",
      "include_colab_link": true
    },
    "kernelspec": {
      "name": "python3",
      "display_name": "Python 3"
    }
  },
  "cells": [
    {
      "cell_type": "markdown",
      "metadata": {
        "id": "view-in-github",
        "colab_type": "text"
      },
      "source": [
        "<a href=\"https://colab.research.google.com/github/miho777/Storage_GURU/blob/master/GURU_Prework_1.ipynb\" target=\"_parent\"><img src=\"https://colab.research.google.com/assets/colab-badge.svg\" alt=\"Open In Colab\"/></a>"
      ]
    },
    {
      "cell_type": "markdown",
      "metadata": {
        "id": "4L1ChF_eatsB",
        "colab_type": "text"
      },
      "source": [
        "**GURU会プリワーク**   \n",
        "下のコードセルを実行して、結果を確認して下さい。\n",
        "\n",
        "このように出力されたらOK：  \n",
        "*Python 3.6.9*  \n",
        "*Hello GURU!*"
      ]
    },
    {
      "cell_type": "code",
      "metadata": {
        "id": "eHGiKfPGaLt4",
        "colab_type": "code",
        "colab": {
          "base_uri": "https://localhost:8080/",
          "height": 53
        },
        "outputId": "a385531d-f5b3-4e89-f469-671d1b1c51da"
      },
      "source": [
        "# コードセル for GURU pre-work\n",
        "!python -V\n",
        "print(\"Hello GURU!\")"
      ],
      "execution_count": 4,
      "outputs": [
        {
          "output_type": "stream",
          "text": [
            "Python 3.6.9\n",
            "Hello GURU!\n"
          ],
          "name": "stdout"
        }
      ]
    }
  ]
}